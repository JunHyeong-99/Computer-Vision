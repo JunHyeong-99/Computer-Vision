{
  "nbformat": 4,
  "nbformat_minor": 0,
  "metadata": {
    "colab": {
      "provenance": []
    },
    "kernelspec": {
      "name": "python3",
      "display_name": "Python 3"
    },
    "language_info": {
      "name": "python"
    }
  },
  "cells": [
    {
      "cell_type": "markdown",
      "source": [
        "기본 신경망 학습\n",
        "Pytorch를 사용해 신경망을 학습하는 것을 익히기 위한 자료입니다\n",
        "MNIST 데이터 학습을 위한 신경망 학습\n",
        "MNIST는 손글씨의 숫자 (0~9)를 분류하는 문제를 위한 데이터입니다."
      ],
      "metadata": {
        "id": "MrDrdtEDV-mn"
      }
    },
    {
      "cell_type": "code",
      "source": [
        "import torch\n",
        "import torch.nn as nn ## linear, other operation\n",
        "import torch.nn.functional as F ## 다양한 activation 함수\n",
        "import torchvision\n",
        "import torchvision.datasets as vision_dsets\n",
        "import torchvision.transforms as T\n",
        "import torch.optim as optim\n",
        "\n",
        "from torch.autograd import Variable\n",
        "from torch.utils import data"
      ],
      "metadata": {
        "id": "Z-sOMM_DJn6I"
      },
      "execution_count": null,
      "outputs": []
    },
    {
      "cell_type": "code",
      "source": [
        "## 데이터 분석을 위한 library의 import\n",
        "import seaborn as sn\n",
        "import pandas as pd\n",
        "import matplotlib.pyplot as plt\n",
        "import numpy as np\n",
        "import itertools"
      ],
      "metadata": {
        "id": "9WnoEJ4BKSC_"
      },
      "execution_count": null,
      "outputs": []
    },
    {
      "cell_type": "code",
      "source": [
        "def plot_confusion_matrix(cm, target_names=None, cmap=None, normalize=True, labels=True, title='Confusion matrix'):\n",
        "  accuracy = np.trace(cm) / float(np.sum(cm)) ## trace : matrix의 diagonal term의 summation / matrix의 모든 element의 합\n",
        "  misclass = 1 - accuracy\n",
        "\n",
        "  if cmap is None:\n",
        "    cmap = plt.get_cmap('Blues')\n",
        "\n",
        "  if normalize:\n",
        "    cm = cm.astype('float') / cm.sum(axis=1)[:, np.newaxis]\n",
        "\n",
        "  plt.figure(figsize=(20,15))\n",
        "  plt.imshow(cm, interpolation='nearest', cmap=cmap)\n",
        "  plt.title(title)\n",
        "  plt.colorbar()\n",
        "\n",
        "  thresh = cm.max() / 1.5 if normalize else cm.max() /2\n",
        "\n",
        "  if target_names is not None:\n",
        "    tick_marks = np.arange(len(target_names))\n",
        "    plt.xticks(tick_marks, target_names)\n",
        "    plt.yticks(tick_marks, target_names)\n",
        "\n",
        "    if labels:\n",
        "      for i, j in itertools.product(range(cm.shape[0], range(cm.shape[1]))):\n",
        "        if normalize:\n",
        "          plt.text(j, i, \"{:0.4f}\".format(cm[i, j]), horizontalalignment=\"center\", color=\"white\" if cm[i, j] > thresh else \"black\")\n",
        "        else:\n",
        "          plt.text(j, i, \"{:,}\".format(cm[i,j]), horizontalalignment=\"center\", color=\"white\" if cm[i, j] > thresh else \"black\" )\n",
        "    plt.tight_layout()\n",
        "    plt.ylabel('True label')\n",
        "    plt.xlabel('Predicted label\\naccuracy={:0.4f}; misclass={:0.4f}'.format(accuracy, misclass))\n",
        "    plt.show()"
      ],
      "metadata": {
        "id": "c7OOkINLK0dh"
      },
      "execution_count": null,
      "outputs": []
    },
    {
      "cell_type": "markdown",
      "source": [
        "DataLoader의 생성\n",
        "MNIST Data의 경우 Pytorch의 torchvision에 있는 데이터 셋을 받아 옴"
      ],
      "metadata": {
        "id": "2B0S-1AwV588"
      }
    },
    {
      "cell_type": "code",
      "source": [
        "def MNIST_DATA(root='./data',transforms=None, download=True, batch_size=32, num_worker=4): ## num_worker = cpu 수\n",
        "  print(\"Get the MNIST Data\")\n",
        "\n",
        "  mnist_train = vision_dsets.MNIST(root=root, train=True, transform = T.ToTensor(), download=download) ## train 셋 형태는 Tensor 형태로\n",
        "  mnist_test = vision_dsets.MNIST(root = root, train=False, transform = T.ToTensor(), download = download) ## 테스트 셋\n",
        "\n",
        "  trainDataLoader = data.DataLoader(dataset = mnist_train, batch_size = batch_size, shuffle = True, num_workers = num_worker)## PyTorch의 DataLoader를 사용하여 훈련 데이터셋을 미니배치로 나누고, 데이터를 모델에 공급할 수 있는 iterator를 생성.\n",
        "  testDataLoader = data.DataLoader(dataset = mnist_test, batch_size = batch_size, shuffle = False, num_workers = num_worker) ## barch_size = 한 번에 모델에 입력될 데이터 수\n",
        "\n",
        "  print(\"[+] Finished loading data & Preprocessing\")\n",
        "  return mnist_train, mnist_test,trainDataLoader,testDataLoader"
      ],
      "metadata": {
        "id": "OAVFuEDwRf_u"
      },
      "execution_count": null,
      "outputs": []
    },
    {
      "cell_type": "code",
      "source": [
        "trainDset, testDset, trainDataLoader, testDataLoader = MNIST_DATA(batch_size = 32) # Data Loader"
      ],
      "metadata": {
        "colab": {
          "base_uri": "https://localhost:8080/"
        },
        "id": "34oj57ccqYFG",
        "outputId": "d422b3fd-8a38-41cd-dbe5-33ba743f15d4"
      },
      "execution_count": null,
      "outputs": [
        {
          "output_type": "stream",
          "name": "stdout",
          "text": [
            "Get the MNIST Data\n",
            "[+] Finished loading data & Preprocessing\n"
          ]
        },
        {
          "output_type": "stream",
          "name": "stderr",
          "text": [
            "/usr/local/lib/python3.10/dist-packages/torch/utils/data/dataloader.py:558: UserWarning: This DataLoader will create 4 worker processes in total. Our suggested max number of worker in current system is 2, which is smaller than what this DataLoader is going to create. Please be aware that excessive worker creation might get DataLoader running slow or even freeze, lower the worker number to avoid potential slowness/freeze if necessary.\n",
            "  warnings.warn(_create_warning_msg(\n"
          ]
        }
      ]
    },
    {
      "cell_type": "code",
      "source": [
        "trainDset"
      ],
      "metadata": {
        "colab": {
          "base_uri": "https://localhost:8080/"
        },
        "id": "SQ4FFVo_rCmi",
        "outputId": "6c89d773-e559-4421-ad46-5f0b72203c15"
      },
      "execution_count": null,
      "outputs": [
        {
          "output_type": "execute_result",
          "data": {
            "text/plain": [
              "Dataset MNIST\n",
              "    Number of datapoints: 60000\n",
              "    Root location: ./data\n",
              "    Split: Train\n",
              "    StandardTransform\n",
              "Transform: ToTensor()"
            ]
          },
          "metadata": {},
          "execution_count": 107
        }
      ]
    },
    {
      "cell_type": "code",
      "source": [
        "plt.imshow(trainDset.data[0], cmap='gray')"
      ],
      "metadata": {
        "colab": {
          "base_uri": "https://localhost:8080/",
          "height": 448
        },
        "id": "BuNSj2k7rmy6",
        "outputId": "a49156a8-8c99-46dc-b303-dc07cc6218af"
      },
      "execution_count": null,
      "outputs": [
        {
          "output_type": "execute_result",
          "data": {
            "text/plain": [
              "<matplotlib.image.AxesImage at 0x7806c090fa90>"
            ]
          },
          "metadata": {},
          "execution_count": 108
        },
        {
          "output_type": "display_data",
          "data": {
            "text/plain": [
              "<Figure size 640x480 with 1 Axes>"
            ],
            "image/png": "[encoded data removed]"
          },
          "metadata": {}
        }
      ]
    },
    {
      "cell_type": "markdown",
      "source": [
        "Trainer를 class로 만든 것입니다. 목적은 ent, trainloader, testloader, optimizer,criterion을 모두 input으로 받아, Trainer 내에서 모델의 학습과 평가를 하기 위함"
      ],
      "metadata": {
        "id": "YoWTAjCIsVBL"
      }
    },
    {
      "cell_type": "code",
      "source": [
        "data = next(iter(trainDataLoader))\n",
        "print(data[0].shape) ## 32, 1, 28, 28 미니배치 사이즈, 이미지 채널(흑백), 이미지의 높이, 이미지의 넓이"
      ],
      "metadata": {
        "colab": {
          "base_uri": "https://localhost:8080/"
        },
        "id": "ocmyH4NczKdD",
        "outputId": "40823e4c-7fec-41e0-d6c3-9cfc235f0d0b"
      },
      "execution_count": null,
      "outputs": [
        {
          "output_type": "stream",
          "name": "stdout",
          "text": [
            "torch.Size([32, 1, 28, 28])\n"
          ]
        }
      ]
    },
    {
      "cell_type": "code",
      "source": [
        "class Trainer():\n",
        "  def __init__(self, trainloader, testloader, net, optimizer, criterion): ## criterion == loss functioin\n",
        "    self.trainloader = trainloader\n",
        "    self.testloader = testloader\n",
        "    self.net = net\n",
        "    self.optimizer = optimizer ## optimizer = optimizer to update your model\n",
        "    self.criterion = criterion\n",
        "\n",
        "  def train(self, epoch = 100):\n",
        "    self.net.train() ## net 학습 모드\n",
        "    for e in range(epoch): ##epoch만큼 train한다.\n",
        "      running_loss = 0.0\n",
        "      for i, data in enumerate(self.trainloader, 0):\n",
        "        inputs, labels = data[0], data[1]\n",
        "        inputs = inputs.cuda() ## 불러온 데이터를 GPU위에 올리기\n",
        "        labels = labels.cuda()\n",
        "\n",
        "        self.optimizer.zero_grad()\n",
        "\n",
        "        outputs = self.net(inputs)\n",
        "        loss = self.criterion(outputs, labels) ## 손실 계산\n",
        "        loss.backward() ## 손실 함수에 대한 각 파라미터의 기울기 계산\n",
        "        self.optimizer.step() ## 모델의 파라미터를 업데이트\n",
        "\n",
        "        running_loss += loss.item() ## 현재의 손실 값 계산\n",
        "        if(i+1) % 500 == 0:\n",
        "          print('[%d, %5d] loss: %.3f' % (e+1, i+1, running_loss/500))\n",
        "          running_loss = 0.0\n",
        "    print('Finished Trainning')\n",
        "\n",
        "  def test(self):\n",
        "    self.net.eval()\n",
        "\n",
        "    test_loss = 0\n",
        "    correct = 0\n",
        "    for inputs, labels in self.testloader:\n",
        "      inputs = inputs.cuda()\n",
        "      labels = labels.cuda()\n",
        "      output = self.net(inputs)  # test 데이터를 넣어 예측 값을 구하는 함수\n",
        "      pred = output.max(1, keepdim=True)[1] ## 확률이 가장 높은 거 추출\n",
        "      correct += pred.eq(labels.view_as(pred)).sum().item() ##  예측된 클래스와 실제 클래스가 일치하는 경우를 세는 과정을 나타냅니다.\n",
        "\n",
        "      test_loss /= len(self.testloader.dataset) ## 10,000\n",
        "    print('\\nTest set: Accuracy: {}/{} ({:.0f}%)\\n'.\n",
        "          format(correct, len(self.testloader.dataset),\n",
        "                  100.*correct/len(self.testloader.dataset)))\n",
        "\n",
        "  def get_conf(self): ## 모델의 예측 결과를 평가하고, 혼동 행렬(confusion matrix)을 계산 (각 수에대한 에러 평가)\n",
        "    self.net.eval() ## 평가 모드\n",
        "\n",
        "    confusion = torch.zeros(10, 10)\n",
        "    for inputs, labels in self.testloader:\n",
        "      inputs = inputs.cuda()\n",
        "      labels = labels.cuda()\n",
        "      output = self.net(inputs)\n",
        "      pred = torch.argmax(output, dim=1)\n",
        "\n",
        "      for num in range(output.shape[0]):\n",
        "        confusion[pred[num], labels[num]] += 1\n",
        "    return confusion\n",
        "\n",
        "\n"
      ],
      "metadata": {
        "id": "fX66rUrhruPt"
      },
      "execution_count": null,
      "outputs": []
    },
    {
      "cell_type": "markdown",
      "source": [
        "2 Layer Network + Sigmoid\n",
        "\n",
        "\n",
        "*   input: (28 * 28)\n",
        "*   Hidden dimension: 30\n",
        "*   Output dimension: 10\n",
        "*   activation: sigmoid\n",
        "*   Optimizer: SGD\n",
        "*   Loss: Cross-Entropy\n"
      ],
      "metadata": {
        "id": "u76lWOamUuEx"
      }
    },
    {
      "cell_type": "code",
      "source": [
        "class MNIST_Net(nn.Module):\n",
        "  def __init__(self):\n",
        "    super(MNIST_Net, self).__init__()\n",
        "    self.fc0 = nn.Linear(28*28,30)\n",
        "    self.fc1 = nn.Linear(30, 10)\n",
        "    self.act = nn.Sigmoid()\n",
        "\n",
        "  def forward(self, x):\n",
        "    x = x.view(-1, 28*28) ##\n",
        "    x = self.fc0(x) # 28 * 28 -> 30 ## 첫 번째 층 입력 : 28*28 출력 : 30\n",
        "    x = self.act(x) # Activation function\n",
        "    x = self.fc1(x) # 30 -> 10, 출력: 0~9까지의 수\n",
        "    return x"
      ],
      "metadata": {
        "id": "JgqQ7ZZAUoe5"
      },
      "execution_count": null,
      "outputs": []
    },
    {
      "cell_type": "code",
      "source": [
        "mnist_net = MNIST_Net().cuda() ## 인스턴스를 GPU에 올림\n",
        "criterion = nn.CrossEntropyLoss() ## 손실함수\n",
        "optimizer = optim.SGD(mnist_net.parameters(), lr=0.001) ## 경사 하강법 파라미터를 업데이트하는 데 사용"
      ],
      "metadata": {
        "id": "dSoemXV8Vmcw"
      },
      "execution_count": null,
      "outputs": []
    },
    {
      "cell_type": "code",
      "source": [
        "trainer = Trainer(trainloader = trainDataLoader,\n",
        "                  testloader = testDataLoader,\n",
        "                  net = mnist_net,\n",
        "                  criterion=criterion,\n",
        "                  optimizer = optimizer)"
      ],
      "metadata": {
        "id": "cJg9bA2raeRI"
      },
      "execution_count": null,
      "outputs": []
    },
    {
      "cell_type": "code",
      "source": [
        "trainer.train(epoch=10)"
      ],
      "metadata": {
        "colab": {
          "base_uri": "https://localhost:8080/"
        },
        "id": "gvD3gZrja2NI",
        "outputId": "550c60ab-55d0-4c25-ec08-9fc46cc5a21f"
      },
      "execution_count": null,
      "outputs": [
        {
          "output_type": "stream",
          "name": "stderr",
          "text": [
            "/usr/local/lib/python3.10/dist-packages/torch/utils/data/dataloader.py:558: UserWarning: This DataLoader will create 4 worker processes in total. Our suggested max number of worker in current system is 2, which is smaller than what this DataLoader is going to create. Please be aware that excessive worker creation might get DataLoader running slow or even freeze, lower the worker number to avoid potential slowness/freeze if necessary.\n",
            "  warnings.warn(_create_warning_msg(\n"
          ]
        },
        {
          "output_type": "stream",
          "name": "stdout",
          "text": [
            "[1,   500] loss: 2.082\n",
            "[1,  1000] loss: 2.060\n",
            "[1,  1500] loss: 2.037\n",
            "[2,   500] loss: 2.000\n",
            "[2,  1000] loss: 1.974\n",
            "[2,  1500] loss: 1.949\n",
            "[3,   500] loss: 1.908\n",
            "[3,  1000] loss: 1.877\n",
            "[3,  1500] loss: 1.852\n",
            "[4,   500] loss: 1.802\n",
            "[4,  1000] loss: 1.773\n",
            "[4,  1500] loss: 1.749\n",
            "[5,   500] loss: 1.697\n",
            "[5,  1000] loss: 1.669\n",
            "[5,  1500] loss: 1.648\n",
            "[6,   500] loss: 1.596\n",
            "[6,  1000] loss: 1.568\n",
            "[6,  1500] loss: 1.539\n",
            "[7,   500] loss: 1.498\n",
            "[7,  1000] loss: 1.472\n",
            "[7,  1500] loss: 1.448\n",
            "[8,   500] loss: 1.409\n",
            "[8,  1000] loss: 1.381\n",
            "[8,  1500] loss: 1.355\n",
            "[9,   500] loss: 1.322\n",
            "[9,  1000] loss: 1.302\n",
            "[9,  1500] loss: 1.280\n",
            "[10,   500] loss: 1.248\n",
            "[10,  1000] loss: 1.227\n",
            "[10,  1500] loss: 1.207\n",
            "Finished Trainning\n"
          ]
        }
      ]
    },
    {
      "cell_type": "code",
      "source": [
        "trainer.test()"
      ],
      "metadata": {
        "id": "4J-tHXvraoio",
        "colab": {
          "base_uri": "https://localhost:8080/"
        },
        "outputId": "2b5a3792-7e0d-4e9e-c2ad-a490337ea14f"
      },
      "execution_count": null,
      "outputs": [
        {
          "output_type": "stream",
          "name": "stdout",
          "text": [
            "\n",
            "Test set: Accuracy: 5957/10000 (60%)\n",
            "\n"
          ]
        }
      ]
    },
    {
      "cell_type": "markdown",
      "source": [
        "ReLU 사용"
      ],
      "metadata": {
        "id": "KLZVE5hj3z2b"
      }
    },
    {
      "cell_type": "code",
      "source": [
        "class MNIST_Net(nn.Module):\n",
        "  def __init__(self):\n",
        "    super(MNIST_Net, self).__init__()\n",
        "    self.fc0 = nn.Linear(28*28,30)\n",
        "    self.fc1 = nn.Linear(30, 10)\n",
        "    self.act = nn.ReLU()\n",
        "\n",
        "  def forward(self, x):\n",
        "    x = x.view(-1, 28*28) ##\n",
        "    x = self.fc0(x) # 28 * 28 -> 30\n",
        "    x = self.act(x) # Activation function\n",
        "    x = self.fc1(x) # 30 -> 10, logit for each class\n",
        "    return x"
      ],
      "metadata": {
        "id": "P3t0u2E0314B"
      },
      "execution_count": null,
      "outputs": []
    },
    {
      "cell_type": "code",
      "source": [
        "mnist_net = MNIST_Net().cuda()\n",
        "criterion = nn.CrossEntropyLoss()\n",
        "optimizer = optim.SGD(mnist_net.parameters(), lr=0.001)"
      ],
      "metadata": {
        "id": "DBqWRzRG3_sZ"
      },
      "execution_count": null,
      "outputs": []
    },
    {
      "cell_type": "code",
      "source": [
        "trainer = Trainer(trainloader = trainDataLoader,\n",
        "                  testloader = testDataLoader,\n",
        "                  net = mnist_net,\n",
        "                  criterion=criterion,\n",
        "                  optimizer = optimizer)"
      ],
      "metadata": {
        "id": "402_UhXq4DDZ"
      },
      "execution_count": null,
      "outputs": []
    },
    {
      "cell_type": "code",
      "source": [
        "trainer.train(epoch=10)"
      ],
      "metadata": {
        "colab": {
          "base_uri": "https://localhost:8080/"
        },
        "id": "fOiySoaA4IBY",
        "outputId": "02d27d7f-30fb-42d7-ed84-f448d9437322"
      },
      "execution_count": null,
      "outputs": [
        {
          "output_type": "stream",
          "name": "stderr",
          "text": [
            "/usr/local/lib/python3.10/dist-packages/torch/utils/data/dataloader.py:558: UserWarning: This DataLoader will create 4 worker processes in total. Our suggested max number of worker in current system is 2, which is smaller than what this DataLoader is going to create. Please be aware that excessive worker creation might get DataLoader running slow or even freeze, lower the worker number to avoid potential slowness/freeze if necessary.\n",
            "  warnings.warn(_create_warning_msg(\n"
          ]
        },
        {
          "output_type": "stream",
          "name": "stdout",
          "text": [
            "[1,   500] loss: 2.253\n",
            "[1,  1000] loss: 2.157\n",
            "[1,  1500] loss: 2.040\n",
            "[2,   500] loss: 1.801\n",
            "[2,  1000] loss: 1.657\n",
            "[2,  1500] loss: 1.510\n",
            "[3,   500] loss: 1.263\n",
            "[3,  1000] loss: 1.149\n",
            "[3,  1500] loss: 1.051\n",
            "[4,   500] loss: 0.910\n",
            "[4,  1000] loss: 0.850\n",
            "[4,  1500] loss: 0.808\n",
            "[5,   500] loss: 0.727\n",
            "[5,  1000] loss: 0.694\n",
            "[5,  1500] loss: 0.664\n",
            "[6,   500] loss: 0.621\n",
            "[6,  1000] loss: 0.605\n",
            "[6,  1500] loss: 0.583\n",
            "[7,   500] loss: 0.555\n",
            "[7,  1000] loss: 0.551\n",
            "[7,  1500] loss: 0.533\n",
            "[8,   500] loss: 0.514\n",
            "[8,  1000] loss: 0.511\n",
            "[8,  1500] loss: 0.498\n",
            "[9,   500] loss: 0.478\n",
            "[9,  1000] loss: 0.483\n",
            "[9,  1500] loss: 0.469\n",
            "[10,   500] loss: 0.454\n",
            "[10,  1000] loss: 0.455\n",
            "[10,  1500] loss: 0.443\n",
            "Finished Trainning\n"
          ]
        }
      ]
    },
    {
      "cell_type": "code",
      "source": [
        "trainer.test()"
      ],
      "metadata": {
        "colab": {
          "base_uri": "https://localhost:8080/"
        },
        "id": "wEhhmuc64I7H",
        "outputId": "cd085683-28ee-45a6-8694-5d981de2047a"
      },
      "execution_count": null,
      "outputs": [
        {
          "output_type": "stream",
          "name": "stdout",
          "text": [
            "\n",
            "Test set: Accuracy: 8883/10000 (89%)\n",
            "\n"
          ]
        }
      ]
    }
  ]
}